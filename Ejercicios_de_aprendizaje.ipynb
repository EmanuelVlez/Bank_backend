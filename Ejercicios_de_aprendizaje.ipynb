{
  "nbformat": 4,
  "nbformat_minor": 0,
  "metadata": {
    "colab": {
      "name": "Ejercicios de aprendizaje.ipynb",
      "provenance": [],
      "collapsed_sections": [],
      "include_colab_link": true
    },
    "kernelspec": {
      "name": "python3",
      "display_name": "Python 3"
    },
    "language_info": {
      "name": "python"
    }
  },
  "cells": [
    {
      "cell_type": "markdown",
      "metadata": {
        "id": "view-in-github",
        "colab_type": "text"
      },
      "source": [
        "<a href=\"https://colab.research.google.com/github/EmanuelVlez/Bank_backend/blob/main/Ejercicios_de_aprendizaje.ipynb\" target=\"_parent\"><img src=\"https://colab.research.google.com/assets/colab-badge.svg\" alt=\"Open In Colab\"/></a>"
      ]
    },
    {
      "cell_type": "markdown",
      "source": [
        "Funciones 🇫\n",
        "\n",
        "Una función es un bloque de código con un nombre asociado, que recibe cero o más argumentos como entrada, además de facilitar la forma de programar disminuyendo la cantidad de codigo y aumentando la eficiencia con la reutilización del mismo programa.\n",
        "\n",
        "Para realizar una función, se comienza definiendo con el comando #def."
      ],
      "metadata": {
        "id": "FW8tD5Fddblr"
      }
    },
    {
      "cell_type": "markdown",
      "source": [
        ""
      ],
      "metadata": {
        "id": "kicQd09jZrVQ"
      }
    },
    {
      "cell_type": "code",
      "source": [
        ""
      ],
      "metadata": {
        "id": "j3EXhNFdZrqf"
      },
      "execution_count": null,
      "outputs": []
    },
    {
      "cell_type": "markdown",
      "source": [
        ""
      ],
      "metadata": {
        "id": "_AIJL-kdZsBm"
      }
    },
    {
      "cell_type": "code",
      "source": [
        "def NOMBRE(LISTA_DE_PARAMETROS):\n",
        "    #\"\"\"DOCSTRING_DE_FUNCION\"\"\"\n",
        "    #SENTENCIAS\n",
        "    #RETURN [EXPRESION]"
      ],
      "metadata": {
        "id": "A0Wbxy_CddK6"
      },
      "execution_count": null,
      "outputs": []
    },
    {
      "cell_type": "code",
      "source": [
        "#EJEMPLO #1\n",
        "def resta(a=None, b=None):\n",
        "  if a == None or b == None:\n",
        "    print(\"Error, debes enviar dos números a la función\")\n",
        "    return\n",
        "    \n",
        "  return a - b\n",
        "a = int(input(\"Ingresa un número entero: \"))\n",
        "b = int(input(\"Ingresa un número entero: \"))\n",
        "resta(a,b)\n"
      ],
      "metadata": {
        "id": "ikerxCuSdlMZ",
        "colab": {
          "base_uri": "https://localhost:8080/"
        },
        "outputId": "133afae6-a77d-4eec-9edb-b2ce11243ba0"
      },
      "execution_count": null,
      "outputs": [
        {
          "name": "stdout",
          "output_type": "stream",
          "text": [
            "Ingresa un número entero: 10\n",
            "Ingresa un número entero: 40\n"
          ]
        },
        {
          "output_type": "execute_result",
          "data": {
            "text/plain": [
              "-30"
            ]
          },
          "metadata": {},
          "execution_count": 2
        }
      ]
    },
    {
      "cell_type": "code",
      "source": [
        "def centrar(cad):\n",
        "\tprint(\" \" * int(40 - (len(cad)/2)),cad)\n",
        "\tprint(\" \" * int(40 - (len(cad)/2)), \".\" * len(cad))\n",
        "\n",
        "nombre = input()\n",
        "centrar (\"Bienvenido a nuestra pagina oficial\")\n",
        "centrar (nombre)"
      ],
      "metadata": {
        "id": "5jMdEvvGdnsY",
        "outputId": "aa4897ab-9a20-4075-d44c-11cd5f151726",
        "colab": {
          "base_uri": "https://localhost:8080/"
        }
      },
      "execution_count": null,
      "outputs": [
        {
          "output_type": "stream",
          "name": "stdout",
          "text": [
            "sara\n",
            "                       Bienvenido a nuestra pagina oficial\n",
            "                       ...................................\n",
            "                                       sara\n",
            "                                       ....\n"
          ]
        }
      ]
    },
    {
      "cell_type": "markdown",
      "source": [
        "Recibe dos número e indica si el primero el múltiplo del segundo. Para ello calculo el resto de la división, si es 0 es múltiplo. Parámetros de entrada: dos números Dato devuelto: múltiplo: Valor lógico verdadero si el primero es múltiplo del segundo, Falso en caso contrario."
      ],
      "metadata": {
        "id": "YW1FU-Fpdp-z"
      }
    },
    {
      "cell_type": "code",
      "source": [
        "def multiplo(x,y):\n",
        "  #Residuo %\n",
        "\tif x % y == 0:\n",
        "\t\treturn True\n",
        "\telse:\n",
        "\t\treturn False\n",
        "\n",
        "numero1 = int(input(\"Ingresa un numero:\"))\n",
        "numero2 = int(input(\"Ingresa un numero:\"))\n",
        "\n",
        "if multiplo(numero1,numero2):\n",
        "\tprint(numero1,\"es múltiplo de\",numero2)\n",
        "else:\n",
        "\tprint(numero1,\"no es múltiplo de\",numero2)\n"
      ],
      "metadata": {
        "id": "goIJdO4adrCz",
        "colab": {
          "base_uri": "https://localhost:8080/"
        },
        "outputId": "107fee79-aa6f-4a9c-fa3f-00650754b43b"
      },
      "execution_count": null,
      "outputs": [
        {
          "output_type": "stream",
          "name": "stdout",
          "text": [
            "Ingresa un numero:10\n",
            "Ingresa un numero:17\n",
            "10 no es múltiplo de 17\n"
          ]
        }
      ]
    },
    {
      "cell_type": "markdown",
      "source": [
        "BUCLE CON RANGO A menudo, el programa necesita repetir bloques varias veces. Ahí es donde los bucles son útiles."
      ],
      "metadata": {
        "id": "Oe2bobw7dxot"
      }
    },
    {
      "cell_type": "code",
      "source": [
        "for caracter in 'hello':\n",
        "    print(caracter)"
      ],
      "metadata": {
        "id": "WHqYEaTfd0_s",
        "colab": {
          "base_uri": "https://localhost:8080/"
        },
        "outputId": "ad0c4711-9647-44af-8d9a-e3d4f406c9f6"
      },
      "execution_count": null,
      "outputs": [
        {
          "output_type": "stream",
          "name": "stdout",
          "text": [
            "h\n",
            "e\n",
            "l\n",
            "l\n",
            "o\n"
          ]
        }
      ]
    },
    {
      "cell_type": "code",
      "source": [
        "#No acepta numeros decimales.\n",
        "x = int(input(\"Ingresa un numero: \"))\n",
        "y = int(input(\"Ingresa un numero mayor al anterior: \"))\n",
        "\n",
        "if(y>x):\n",
        "  for i in range(x, y+1):\n",
        "    print(i, i ** 2 )\n",
        "  print(\"Programa finalizado\")\n",
        "else:\n",
        "  print(x ,\"no es menor que\", y)"
      ],
      "metadata": {
        "id": "m9TzzEKNd41c",
        "colab": {
          "base_uri": "https://localhost:8080/"
        },
        "outputId": "b7bf1da1-3bc7-4c7e-bb5e-d59bf0369cee"
      },
      "execution_count": null,
      "outputs": [
        {
          "output_type": "stream",
          "name": "stdout",
          "text": [
            "Ingresa un numero: 4\n",
            "Ingresa un numero mayor al anterior: 8\n",
            "4 16\n",
            "5 25\n",
            "6 36\n",
            "7 49\n",
            "8 64\n",
            "Programa finalizado\n"
          ]
        }
      ]
    },
    {
      "cell_type": "code",
      "source": [
        "contador = 0\n",
        "n = int(input(\"Por favor, ingrese un numero: \"))\n",
        "for i in range(1, n+1):\n",
        "    contador += i\n",
        "    print(contador)\n",
        "print(\"Nuestro resultado total es: \" , contador)"
      ],
      "metadata": {
        "id": "No0xwVVdd5hZ",
        "colab": {
          "base_uri": "https://localhost:8080/"
        },
        "outputId": "3929b294-a510-4d7b-8b2b-dd9e38c113e2"
      },
      "execution_count": null,
      "outputs": [
        {
          "output_type": "stream",
          "name": "stdout",
          "text": [
            "Por favor, ingrese un numero: 6\n",
            "1\n",
            "3\n",
            "6\n",
            "10\n",
            "15\n",
            "21\n",
            "Nuestro resultado total es:  21\n"
          ]
        }
      ]
    },
    {
      "cell_type": "markdown",
      "source": [
        "-1 --"
      ],
      "metadata": {
        "id": "QRuzgnxJicJ0"
      }
    },
    {
      "cell_type": "markdown",
      "source": [
        "LISTAS Python tiene varios tipos de datos compuestos y dentro de las secuencias, están los tipos de cadenas de caracteres."
      ],
      "metadata": {
        "id": "rPDoH5e0eCEm"
      }
    },
    {
      "cell_type": "code",
      "source": [
        "#Escribir un programa que almacene el abecedario en una lista, elimine de la lista las letras que ocupen posiciones múltiplos de 3, y muestre por pantalla la lista resultante.\n",
        "alfabeto = ['a', 'b', 'c', 'd', 'e', 'f', 'g', 'h', 'i', 'j', 'k', 'l', 'm', 'n', 'ñ', 'o', 'p', 'q', 'r', 's', 't', 'u', 'v', 'w', 'x', 'y', 'z']\n",
        "for i in range(len(alfabeto), 1, -1):\n",
        "    if i % 3 == 0:\n",
        "        alfabeto.pop(i-1)\n",
        "print(alfabeto)"
      ],
      "metadata": {
        "id": "ulzfyzYyeHQg",
        "colab": {
          "base_uri": "https://localhost:8080/"
        },
        "outputId": "8e12da86-583a-4b86-a054-a6d37bc048eb"
      },
      "execution_count": null,
      "outputs": [
        {
          "output_type": "stream",
          "name": "stdout",
          "text": [
            "['a', 'b', 'd', 'e', 'g', 'h', 'j', 'k', 'm', 'n', 'o', 'p', 'r', 's', 'u', 'v', 'x', 'y']\n"
          ]
        }
      ]
    },
    {
      "cell_type": "code",
      "source": [
        "ciudades = ['New York', 'Dallas', 'San Antonio', 'Houston', 'San Francisco'];\n",
        "contador = 3\n",
        "for i in range(1,contador+1):\n",
        "  x= int(input(\"ingresa un numero entero dentro de intervalo (-3,3): \" )) \n",
        "  if(-4 > x or x > 4):\n",
        "    contador = contador - 1\n",
        "    print(\"Te queda\" , contador , \"Intento\")\n",
        "  elif(-4 < x < 4):\n",
        "    print (\"Ciudad borrada y retornada es: \", ciudades.pop()) # Ciudad borrada y retornada  es: San Francisco\n",
        "    print (\"Ciudad al índice 2 es  : \", ciudades.pop(x)) # Ciudad en en el índice 2 es: San Antonio\n",
        "    break\n"
      ],
      "metadata": {
        "id": "g5jLU_yn_TCI"
      },
      "execution_count": null,
      "outputs": []
    },
    {
      "cell_type": "code",
      "source": [
        "lista1 = []\n",
        "lista2 = []\n",
        "\n",
        "# Recorro la lista1 y leo cada elemento por teclado.\n",
        "for indice in range(1,6):\n",
        "\tlista1.append(input(\"Ingresa la cadena %d:\" %indice))\n",
        "\t\n",
        "# Copio la lista1 en la lista2 en orden inverso\n",
        "lista2 = lista1[::-1] #reversed()\n",
        "\n",
        "# Recorro el vector2 para mostrarlo\n",
        "for cadena in lista2:\n",
        "\tprint(cadena)\n"
      ],
      "metadata": {
        "id": "OceAxxDieH_x",
        "colab": {
          "base_uri": "https://localhost:8080/"
        },
        "outputId": "692b341c-fa4a-4b47-9168-02714690f980"
      },
      "execution_count": null,
      "outputs": [
        {
          "output_type": "stream",
          "name": "stdout",
          "text": [
            "Ingresa la cadena 1:a\n",
            "Ingresa la cadena 2:b\n",
            "Ingresa la cadena 3:c\n",
            "Ingresa la cadena 4:d\n",
            "Ingresa la cadena 5:e\n",
            "e\n",
            "d\n",
            "c\n",
            "b\n",
            "a\n"
          ]
        }
      ]
    },
    {
      "cell_type": "markdown",
      "source": [
        "DICCIONARIOS\n",
        "\n",
        "Es una estructura de datos y un tipo de dato en Python con características especiales que nos permite almacenar cualquier tipo de valor como enteros, cadenas, listas e incluso otras funciones"
      ],
      "metadata": {
        "id": "ijA-Ht3HTA37"
      }
    },
    {
      "cell_type": "code",
      "source": [
        "monedas = {'Euro':'€', 'Dollar':'$', 'Yen':'¥'}\n",
        "moneda = input(\"Introduce una divisa: \")\n",
        "print(monedas.get(moneda.title(), \"La divisa no está.\"))"
      ],
      "metadata": {
        "id": "ZQ3CjH6aTON6"
      },
      "execution_count": null,
      "outputs": []
    },
    {
      "cell_type": "code",
      "source": [
        "monedas = {'Euro':2000, 'Dollar':2500, 'Yen':4000}\n",
        "\n",
        "def centrar(cad):\n",
        "\tprint(\" \" * int(37 - (len(cad)/2)),cad)\n",
        "\tprint(\" \" * int(37 - (len(cad)/2)), \".\" * len(cad))\n",
        "\n",
        "centrar(\"Bienvenido al cambio de divisas\") \n",
        "print(\"  \")\n",
        "contador = 0\n",
        "pesos = int(input(\"Ingresa el valor a cambiar: \"))\n",
        "divisa = input(\"Ingresa una divisa: \")\n",
        "while contador < 2:\n",
        "  if(divisa in monedas):\n",
        "    total = pesos/monedas[divisa]\n",
        "    print(total)\n",
        "    break\n",
        "  else:\n",
        "    print(\"Ingresa una divisa valida\")\n",
        "    contador += 1\n",
        "    pesos = int(input(\"Ingresa el valor a cambiar: \"))\n",
        "    divisa = input(\"Ingresa una divisa: \")\n",
        "    print(\"Acabaste tus intentos\")\n"
      ],
      "metadata": {
        "id": "7AfG7QmWpDgx"
      },
      "execution_count": null,
      "outputs": []
    },
    {
      "cell_type": "code",
      "source": [
        "frutas = {'Plátano':1500, 'Manzana':2000,'Guayaba':1900, 'Pera':2500, 'Naranja':800,'Guanabana':3100}\n",
        "fruta = input(\"¿Qué fruta te gustaría comprar? \").title()\n",
        "kg = float(input(\"¿Cuántos kilos? \"))\n",
        "if fruta in frutas:\n",
        "    print(kg, 'kilos de', fruta, 'tiene un costo de', frutas[fruta]*kg, 'pesos')\n",
        "else: \n",
        "    print(\"Lo siento, la fruta\", fruta, \"no la tenemos en el inventario\")"
      ],
      "metadata": {
        "id": "rPyDN_qAVPpU",
        "colab": {
          "base_uri": "https://localhost:8080/"
        },
        "outputId": "58c99877-0e84-4257-b8e0-db5469be85eb"
      },
      "execution_count": null,
      "outputs": [
        {
          "output_type": "stream",
          "name": "stdout",
          "text": [
            "¿Qué fruta te gustaría comprar? pera\n",
            "¿Cuántos kilos? 3\n",
            "3.0 kilos de Pera tiene un costo de 7500.0 pesos\n"
          ]
        }
      ]
    },
    {
      "cell_type": "code",
      "source": [
        "# Creamos el diccionario con listas vacías en su interior\n",
        "usuarios = {\"nombres\": [],\"identificaciones\": []\n",
        "}\n",
        "\n",
        "# Definimos un tamaño para las listas del diccionario\n",
        "# Lo puedes cambiar si quieres\n",
        "tamaño = int(input(\"Ingresa la cantidad de personas a agregar\"))\n",
        "\n",
        "# Leemos los datos y los agregamos a el diccionario\n",
        "for i in range(tamaño):\n",
        "    print(\"Ingrese los datos de la persona\", i + 1)\n",
        "    nombre = input(\"Nombre: \")\n",
        "    identificación = input(\"Identificación: \")\n",
        "\n",
        "    # La primera lista es para los nombres\n",
        "    usuarios[\"nombres\"].append(nombre)\n",
        "\n",
        "    # La segunda lista es para las identificaciones\n",
        "    usuarios[\"identificaciones\"].append(identificación)\n",
        "\n",
        "imprimir = int(input(\"ingresa la posición de una persona ingresada para conocer sus datos\"))\n",
        "# Ahora mostremos los valores en el diccionario\n",
        "print(\"Mostrando los datos de la persona\", imprimir)\n",
        "print(\"Nombre:\", usuarios[\"nombres\"][imprimir-1])\n",
        "print(\"Identificación:\", usuarios[\"identificaciones\"][imprimir-1])"
      ],
      "metadata": {
        "id": "wcVOsd1weqMp",
        "colab": {
          "base_uri": "https://localhost:8080/"
        },
        "outputId": "12627384-1b06-4d3a-b266-40f3ab3899b0"
      },
      "execution_count": null,
      "outputs": [
        {
          "output_type": "stream",
          "name": "stdout",
          "text": [
            "Ingresa la cantidad de personas a agregar3\n",
            "Ingrese los datos de la persona 1\n",
            "Nombre: Lucas\n",
            "Identificación: 1234456\n",
            "Ingrese los datos de la persona 2\n",
            "Nombre: Fidel\n",
            "Identificación: 3344566\n",
            "Ingrese los datos de la persona 3\n",
            "Nombre: Jesus\n",
            "Identificación: 12234553\n",
            "ingresa la posición de una persona ingresada para conocer sus datos3\n",
            "Mostrando los datos de la persona 3\n",
            "Nombre: Jesus\n",
            "Identificación: 12234553\n"
          ]
        }
      ]
    },
    {
      "cell_type": "markdown",
      "source": [
        "TURTLE, COMO EXTENSIÓN GRÁFICA DE PYTHON La extensión TURTLE es una forma de introducir a los niños a la programación por medio de contrucción de figuras. Es compatible con python y excelente para la realización de graficos basicos. -"
      ],
      "metadata": {
        "id": "MLZvXKPFeIcb"
      }
    },
    {
      "cell_type": "code",
      "source": [
        "from turtle import *\n",
        "\n",
        "def centrar(cad):\n",
        "\tprint(\" \" * int(40 - (len(cad)/2)),cad)\n",
        "\tprint(\" \" * int(40 - (len(cad)/2)), \".\" * len(cad))\n",
        "  \n",
        "centrar(\"BIENVENIDO AL SISTEMA DE CONSTRUCCION DE FIGURAS GEOMETRICAS\")\n",
        "print(\"  \")\n",
        "\n",
        "print(\"Para continuar, por favor ingrese los siguientes datos para crear tu figura geometrica\")\n",
        "print(\"  \")\n",
        "print(\"  \")\n",
        "longitud = int(input(\"Ingresa una longitud positiva: \"))\n",
        "Angulo = int(input(\"Ingresa un ángulo positivo cuadrado: \"))\n",
        "Angulo2 = int(input(\"Ingresa un ángulo positivo para la espiral: \"))\n",
        "repeticiones = int(input(\"Ingresa un numero positivo de repeticiones: \"))\n",
        "#color1 = input(\"Ingresa un color de tu preferencia (En inglés): \")\n",
        "\n",
        "import turtle\n",
        "\n",
        "turtle.fillcolor(color)\n",
        "\n",
        "turtle.begin_fill()\n",
        "def cuadrado(longitud):\n",
        "    # Cuatro veces...\n",
        "    for i in range(4):\n",
        "        #posición a desplazar\n",
        "        turtle.forward(50)\n",
        "        #angulo del cuadrado\n",
        "        turtle.right(Angulo1)\n",
        "\n",
        "def espiral():\n",
        "    for i in range(repeticiones):\n",
        "        # El lado del cuadrado\n",
        "        cuadrado(100)\n",
        "        #angulo\n",
        "        turtle.right(Angulo2)\n",
        "\n",
        "turtle.speed(0)\n",
        "\n",
        "espiral()\n",
        "\n",
        "turtle.end_fill()\n",
        "turtle.done()\n"
      ],
      "metadata": {
        "id": "179yzGQheNpM",
        "colab": {
          "base_uri": "https://localhost:8080/",
          "height": 554
        },
        "outputId": "abb99bba-ec2e-4279-fc5f-b4f83091fce2"
      },
      "execution_count": null,
      "outputs": [
        {
          "name": "stdout",
          "output_type": "stream",
          "text": [
            "           BIENVENIDO AL SISTEMA DE CONSTRUCCION DE FIGURAS GEOMETRICAS\n",
            "           ............................................................\n",
            "  \n",
            "Para continuar, por favor ingrese los siguientes datos para crear tu figura geometrica\n",
            "  \n",
            "  \n",
            "Ingresa una longitud positiva: 4\n",
            "Ingresa un ángulo positivo cuadrado: 30\n",
            "Ingresa un ángulo positivo para la espiral: 20\n",
            "Ingresa un numero positivo de repeticiones: 10\n"
          ]
        },
        {
          "output_type": "error",
          "ename": "TclError",
          "evalue": "ignored",
          "traceback": [
            "\u001b[0;31m---------------------------------------------------------------------------\u001b[0m",
            "\u001b[0;31mTclError\u001b[0m                                  Traceback (most recent call last)",
            "\u001b[0;32m<ipython-input-8-4209a9fa8e28>\u001b[0m in \u001b[0;36m<module>\u001b[0;34m()\u001b[0m\n\u001b[1;32m     19\u001b[0m \u001b[0;32mimport\u001b[0m \u001b[0mturtle\u001b[0m\u001b[0;34m\u001b[0m\u001b[0;34m\u001b[0m\u001b[0m\n\u001b[1;32m     20\u001b[0m \u001b[0;34m\u001b[0m\u001b[0m\n\u001b[0;32m---> 21\u001b[0;31m \u001b[0mturtle\u001b[0m\u001b[0;34m.\u001b[0m\u001b[0mfillcolor\u001b[0m\u001b[0;34m(\u001b[0m\u001b[0mcolor\u001b[0m\u001b[0;34m)\u001b[0m\u001b[0;34m\u001b[0m\u001b[0;34m\u001b[0m\u001b[0m\n\u001b[0m\u001b[1;32m     22\u001b[0m \u001b[0;34m\u001b[0m\u001b[0m\n\u001b[1;32m     23\u001b[0m \u001b[0mturtle\u001b[0m\u001b[0;34m.\u001b[0m\u001b[0mbegin_fill\u001b[0m\u001b[0;34m(\u001b[0m\u001b[0;34m)\u001b[0m\u001b[0;34m\u001b[0m\u001b[0;34m\u001b[0m\u001b[0m\n",
            "\u001b[0;32m/usr/lib/python3.7/turtle.py\u001b[0m in \u001b[0;36mfillcolor\u001b[0;34m(*args)\u001b[0m\n",
            "\u001b[0;32m/usr/lib/python3.7/turtle.py\u001b[0m in \u001b[0;36m__init__\u001b[0;34m(self, shape, undobuffersize, visible)\u001b[0m\n\u001b[1;32m   3810\u001b[0m                  visible=_CFG[\"visible\"]):\n\u001b[1;32m   3811\u001b[0m         \u001b[0;32mif\u001b[0m \u001b[0mTurtle\u001b[0m\u001b[0;34m.\u001b[0m\u001b[0m_screen\u001b[0m \u001b[0;32mis\u001b[0m \u001b[0;32mNone\u001b[0m\u001b[0;34m:\u001b[0m\u001b[0;34m\u001b[0m\u001b[0;34m\u001b[0m\u001b[0m\n\u001b[0;32m-> 3812\u001b[0;31m             \u001b[0mTurtle\u001b[0m\u001b[0;34m.\u001b[0m\u001b[0m_screen\u001b[0m \u001b[0;34m=\u001b[0m \u001b[0mScreen\u001b[0m\u001b[0;34m(\u001b[0m\u001b[0;34m)\u001b[0m\u001b[0;34m\u001b[0m\u001b[0;34m\u001b[0m\u001b[0m\n\u001b[0m\u001b[1;32m   3813\u001b[0m         RawTurtle.__init__(self, Turtle._screen,\n\u001b[1;32m   3814\u001b[0m                            \u001b[0mshape\u001b[0m\u001b[0;34m=\u001b[0m\u001b[0mshape\u001b[0m\u001b[0;34m,\u001b[0m\u001b[0;34m\u001b[0m\u001b[0;34m\u001b[0m\u001b[0m\n",
            "\u001b[0;32m/usr/lib/python3.7/turtle.py\u001b[0m in \u001b[0;36mScreen\u001b[0;34m()\u001b[0m\n\u001b[1;32m   3660\u001b[0m     else return the existing one.\"\"\"\n\u001b[1;32m   3661\u001b[0m     \u001b[0;32mif\u001b[0m \u001b[0mTurtle\u001b[0m\u001b[0;34m.\u001b[0m\u001b[0m_screen\u001b[0m \u001b[0;32mis\u001b[0m \u001b[0;32mNone\u001b[0m\u001b[0;34m:\u001b[0m\u001b[0;34m\u001b[0m\u001b[0;34m\u001b[0m\u001b[0m\n\u001b[0;32m-> 3662\u001b[0;31m         \u001b[0mTurtle\u001b[0m\u001b[0;34m.\u001b[0m\u001b[0m_screen\u001b[0m \u001b[0;34m=\u001b[0m \u001b[0m_Screen\u001b[0m\u001b[0;34m(\u001b[0m\u001b[0;34m)\u001b[0m\u001b[0;34m\u001b[0m\u001b[0;34m\u001b[0m\u001b[0m\n\u001b[0m\u001b[1;32m   3663\u001b[0m     \u001b[0;32mreturn\u001b[0m \u001b[0mTurtle\u001b[0m\u001b[0;34m.\u001b[0m\u001b[0m_screen\u001b[0m\u001b[0;34m\u001b[0m\u001b[0;34m\u001b[0m\u001b[0m\n\u001b[1;32m   3664\u001b[0m \u001b[0;34m\u001b[0m\u001b[0m\n",
            "\u001b[0;32m/usr/lib/python3.7/turtle.py\u001b[0m in \u001b[0;36m__init__\u001b[0;34m(self)\u001b[0m\n\u001b[1;32m   3676\u001b[0m         \u001b[0;31m# preserved (perhaps by passing it as an optional parameter)\u001b[0m\u001b[0;34m\u001b[0m\u001b[0;34m\u001b[0m\u001b[0;34m\u001b[0m\u001b[0m\n\u001b[1;32m   3677\u001b[0m         \u001b[0;32mif\u001b[0m \u001b[0m_Screen\u001b[0m\u001b[0;34m.\u001b[0m\u001b[0m_root\u001b[0m \u001b[0;32mis\u001b[0m \u001b[0;32mNone\u001b[0m\u001b[0;34m:\u001b[0m\u001b[0;34m\u001b[0m\u001b[0;34m\u001b[0m\u001b[0m\n\u001b[0;32m-> 3678\u001b[0;31m             \u001b[0m_Screen\u001b[0m\u001b[0;34m.\u001b[0m\u001b[0m_root\u001b[0m \u001b[0;34m=\u001b[0m \u001b[0mself\u001b[0m\u001b[0;34m.\u001b[0m\u001b[0m_root\u001b[0m \u001b[0;34m=\u001b[0m \u001b[0m_Root\u001b[0m\u001b[0;34m(\u001b[0m\u001b[0;34m)\u001b[0m\u001b[0;34m\u001b[0m\u001b[0;34m\u001b[0m\u001b[0m\n\u001b[0m\u001b[1;32m   3679\u001b[0m             \u001b[0mself\u001b[0m\u001b[0;34m.\u001b[0m\u001b[0m_root\u001b[0m\u001b[0;34m.\u001b[0m\u001b[0mtitle\u001b[0m\u001b[0;34m(\u001b[0m\u001b[0m_Screen\u001b[0m\u001b[0;34m.\u001b[0m\u001b[0m_title\u001b[0m\u001b[0;34m)\u001b[0m\u001b[0;34m\u001b[0m\u001b[0;34m\u001b[0m\u001b[0m\n\u001b[1;32m   3680\u001b[0m             \u001b[0mself\u001b[0m\u001b[0;34m.\u001b[0m\u001b[0m_root\u001b[0m\u001b[0;34m.\u001b[0m\u001b[0mondestroy\u001b[0m\u001b[0;34m(\u001b[0m\u001b[0mself\u001b[0m\u001b[0;34m.\u001b[0m\u001b[0m_destroy\u001b[0m\u001b[0;34m)\u001b[0m\u001b[0;34m\u001b[0m\u001b[0;34m\u001b[0m\u001b[0m\n",
            "\u001b[0;32m/usr/lib/python3.7/turtle.py\u001b[0m in \u001b[0;36m__init__\u001b[0;34m(self)\u001b[0m\n\u001b[1;32m    432\u001b[0m     \u001b[0;34m\"\"\"Root class for Screen based on Tkinter.\"\"\"\u001b[0m\u001b[0;34m\u001b[0m\u001b[0;34m\u001b[0m\u001b[0m\n\u001b[1;32m    433\u001b[0m     \u001b[0;32mdef\u001b[0m \u001b[0m__init__\u001b[0m\u001b[0;34m(\u001b[0m\u001b[0mself\u001b[0m\u001b[0;34m)\u001b[0m\u001b[0;34m:\u001b[0m\u001b[0;34m\u001b[0m\u001b[0;34m\u001b[0m\u001b[0m\n\u001b[0;32m--> 434\u001b[0;31m         \u001b[0mTK\u001b[0m\u001b[0;34m.\u001b[0m\u001b[0mTk\u001b[0m\u001b[0;34m.\u001b[0m\u001b[0m__init__\u001b[0m\u001b[0;34m(\u001b[0m\u001b[0mself\u001b[0m\u001b[0;34m)\u001b[0m\u001b[0;34m\u001b[0m\u001b[0;34m\u001b[0m\u001b[0m\n\u001b[0m\u001b[1;32m    435\u001b[0m \u001b[0;34m\u001b[0m\u001b[0m\n\u001b[1;32m    436\u001b[0m     \u001b[0;32mdef\u001b[0m \u001b[0msetupcanvas\u001b[0m\u001b[0;34m(\u001b[0m\u001b[0mself\u001b[0m\u001b[0;34m,\u001b[0m \u001b[0mwidth\u001b[0m\u001b[0;34m,\u001b[0m \u001b[0mheight\u001b[0m\u001b[0;34m,\u001b[0m \u001b[0mcwidth\u001b[0m\u001b[0;34m,\u001b[0m \u001b[0mcheight\u001b[0m\u001b[0;34m)\u001b[0m\u001b[0;34m:\u001b[0m\u001b[0;34m\u001b[0m\u001b[0;34m\u001b[0m\u001b[0m\n",
            "\u001b[0;32m/usr/lib/python3.7/tkinter/__init__.py\u001b[0m in \u001b[0;36m__init__\u001b[0;34m(self, screenName, baseName, className, useTk, sync, use)\u001b[0m\n\u001b[1;32m   2021\u001b[0m                 \u001b[0mbaseName\u001b[0m \u001b[0;34m=\u001b[0m \u001b[0mbaseName\u001b[0m \u001b[0;34m+\u001b[0m \u001b[0mext\u001b[0m\u001b[0;34m\u001b[0m\u001b[0;34m\u001b[0m\u001b[0m\n\u001b[1;32m   2022\u001b[0m         \u001b[0minteractive\u001b[0m \u001b[0;34m=\u001b[0m \u001b[0;36m0\u001b[0m\u001b[0;34m\u001b[0m\u001b[0;34m\u001b[0m\u001b[0m\n\u001b[0;32m-> 2023\u001b[0;31m         \u001b[0mself\u001b[0m\u001b[0;34m.\u001b[0m\u001b[0mtk\u001b[0m \u001b[0;34m=\u001b[0m \u001b[0m_tkinter\u001b[0m\u001b[0;34m.\u001b[0m\u001b[0mcreate\u001b[0m\u001b[0;34m(\u001b[0m\u001b[0mscreenName\u001b[0m\u001b[0;34m,\u001b[0m \u001b[0mbaseName\u001b[0m\u001b[0;34m,\u001b[0m \u001b[0mclassName\u001b[0m\u001b[0;34m,\u001b[0m \u001b[0minteractive\u001b[0m\u001b[0;34m,\u001b[0m \u001b[0mwantobjects\u001b[0m\u001b[0;34m,\u001b[0m \u001b[0museTk\u001b[0m\u001b[0;34m,\u001b[0m \u001b[0msync\u001b[0m\u001b[0;34m,\u001b[0m \u001b[0muse\u001b[0m\u001b[0;34m)\u001b[0m\u001b[0;34m\u001b[0m\u001b[0;34m\u001b[0m\u001b[0m\n\u001b[0m\u001b[1;32m   2024\u001b[0m         \u001b[0;32mif\u001b[0m \u001b[0museTk\u001b[0m\u001b[0;34m:\u001b[0m\u001b[0;34m\u001b[0m\u001b[0;34m\u001b[0m\u001b[0m\n\u001b[1;32m   2025\u001b[0m             \u001b[0mself\u001b[0m\u001b[0;34m.\u001b[0m\u001b[0m_loadtk\u001b[0m\u001b[0;34m(\u001b[0m\u001b[0;34m)\u001b[0m\u001b[0;34m\u001b[0m\u001b[0;34m\u001b[0m\u001b[0m\n",
            "\u001b[0;31mTclError\u001b[0m: no display name and no $DISPLAY environment variable"
          ]
        }
      ]
    },
    {
      "cell_type": "markdown",
      "source": [
        "Prototipo de video juego básico, con uso de flechas del teclado."
      ],
      "metadata": {
        "id": "o-sJlOtweUDV"
      }
    },
    {
      "cell_type": "code",
      "source": [
        "import turtle\n",
        "\n",
        "window = turtle.Screen()\n",
        "flecha = turtle.Turtle()\n",
        "\n",
        "def arriba():\n",
        "  flecha.setheading(90)\n",
        "  flecha.forward(100)\n",
        "\n",
        "def derecha():\n",
        "  flecha.setheading(0)\n",
        "  flecha.forward(100)\n",
        "\n",
        "def abajo():\n",
        "  flecha.setheading(270)\n",
        "  flecha.forward(100)\n",
        "\n",
        "def izquierda():\n",
        "  flecha.setheading(180)\n",
        "  flecha.forward(100)\n",
        "\n",
        "\n",
        "window.onkeypress(arriba, \"Up\")\n",
        "window.onkeypress(derecha, \"Right\")\n",
        "window.onkeypress(abajo, \"Down\")\n",
        "window.onkeypress(izquierda, \"Left\")\n",
        "\n",
        "window.listen() "
      ],
      "metadata": {
        "id": "mPVxtD7keUnW"
      },
      "execution_count": null,
      "outputs": []
    }
  ]
}